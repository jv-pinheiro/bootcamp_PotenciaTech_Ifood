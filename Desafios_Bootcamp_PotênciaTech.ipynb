{
 "cells": [
  {
   "cell_type": "markdown",
   "id": "cbb6d353",
   "metadata": {},
   "source": [
    "### Sistema Bancário"
   ]
  },
  {
   "cell_type": "code",
   "execution_count": 3,
   "id": "717dc535",
   "metadata": {},
   "outputs": [
    {
     "name": "stdout",
     "output_type": "stream",
     "text": [
      "\n",
      "    ========== MENU ==========\n",
      "    1. Depósito\n",
      "    2. Saque\n",
      "    3. Extrato\n",
      "    4. Sair\n",
      "    \n",
      "    1\n",
      "1\n",
      "Qual o valor de seu depósito?\n",
      "100\n",
      "Depósito efetuado com sucesso!\n",
      "\n",
      "    ========== MENU ==========\n",
      "    1. Depósito\n",
      "    2. Saque\n",
      "    3. Extrato\n",
      "    4. Sair\n",
      "    \n",
      "    2\n",
      "2\n",
      "Digite o valor de seu saque:\n",
      "150\n",
      "Valor digitado maior que o saldo disponível. Tente novamente!\n",
      "\n",
      "    ========== MENU ==========\n",
      "    1. Depósito\n",
      "    2. Saque\n",
      "    3. Extrato\n",
      "    4. Sair\n",
      "    \n",
      "    4\n",
      "4\n",
      "Até logo!\n"
     ]
    }
   ],
   "source": [
    "saldo = 0\n",
    "limite = 500\n",
    "extrato = \"\"\n",
    "numero_saques = 0\n",
    "limite_saques = 3\n",
    "\n",
    "while True:\n",
    "    a = input(\"\"\"\n",
    "    ========== MENU ==========\n",
    "    1. Depósito\n",
    "    2. Saque\n",
    "    3. Extrato\n",
    "    4. Sair\n",
    "    \n",
    "    \"\"\")\n",
    "    print(a)\n",
    "    if a == \"1\":\n",
    "        v = input(\"Qual o valor de seu depósito?\\n\")\n",
    "        saldo += int(v)\n",
    "        print(\"Depósito efetuado com sucesso!\")\n",
    "    elif a == \"2\":\n",
    "        if limite_saques > 0 and saldo > 0:\n",
    "            s = input(\"Digite o valor de seu saque:\\n\")\n",
    "            if int(s) > saldo:\n",
    "                print(\"Valor digitado maior que o saldo disponível. Tente novamente!\")\n",
    "            saldo -= int(s)\n",
    "            numero_saques+=1\n",
    "        else:\n",
    "            print(f\"Vc não consegue efetuar mais saques! Seu saldo é de: R$ {saldo:.2F}, seu limite de saques é: {limite_saques}.\")\n",
    "    elif a == \"3\":\n",
    "        print(f\"\"\"\n",
    "        =========== Extrato ==========\n",
    "        Seu saldo é de R$ {saldo:.2f}.\n",
    "        Você possui {limite_saques} saques.\n",
    "        Você já fez {numero_saques} neste mês.\n",
    "        \"\"\")\n",
    "    elif a == \"4\":\n",
    "        print(\"Até logo!\")\n",
    "        break;\n",
    "    else:\n",
    "        print(\"Opção inválida\")"
   ]
  },
  {
   "cell_type": "code",
   "execution_count": null,
   "id": "7868dbb9",
   "metadata": {},
   "outputs": [],
   "source": []
  }
 ],
 "metadata": {
  "kernelspec": {
   "display_name": "Python 3 (ipykernel)",
   "language": "python",
   "name": "python3"
  },
  "language_info": {
   "codemirror_mode": {
    "name": "ipython",
    "version": 3
   },
   "file_extension": ".py",
   "mimetype": "text/x-python",
   "name": "python",
   "nbconvert_exporter": "python",
   "pygments_lexer": "ipython3",
   "version": "3.9.13"
  }
 },
 "nbformat": 4,
 "nbformat_minor": 5
}
